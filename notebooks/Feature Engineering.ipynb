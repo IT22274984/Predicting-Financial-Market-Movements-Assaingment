{
 "cells": [
  {
   "cell_type": "markdown",
   "id": "3dc47ed6-91c6-4b24-a4cf-a9d255017406",
   "metadata": {},
   "source": [
    "# Feature Engineering"
   ]
  },
  {
   "cell_type": "code",
   "execution_count": 1,
   "id": "0095384a-7971-40df-a9b0-4629519b96a5",
   "metadata": {},
   "outputs": [],
   "source": [
    "import pandas as pd\n",
    "import numpy as np"
   ]
  },
  {
   "cell_type": "code",
   "execution_count": 2,
   "id": "05c11cdb-455c-4126-87c6-95bad8db7b10",
   "metadata": {},
   "outputs": [],
   "source": [
    "#loading preprocessed dataset\n",
    "data = pd.read_csv(\"C:\\\\Users\\\\shant\\\\Downloads\\\\quant-nasdaq-project\\\\data\\\\NASDAQ_Scaled_Full.csv\")\n"
   ]
  },
  {
   "cell_type": "code",
   "execution_count": 3,
   "id": "cd7698d1-a41c-4cb9-970d-c33c6c8aa864",
   "metadata": {},
   "outputs": [
    {
     "data": {
      "text/html": [
       "<div>\n",
       "<style scoped>\n",
       "    .dataframe tbody tr th:only-of-type {\n",
       "        vertical-align: middle;\n",
       "    }\n",
       "\n",
       "    .dataframe tbody tr th {\n",
       "        vertical-align: top;\n",
       "    }\n",
       "\n",
       "    .dataframe thead th {\n",
       "        text-align: right;\n",
       "    }\n",
       "</style>\n",
       "<table border=\"1\" class=\"dataframe\">\n",
       "  <thead>\n",
       "    <tr style=\"text-align: right;\">\n",
       "      <th></th>\n",
       "      <th>Date</th>\n",
       "      <th>Open</th>\n",
       "      <th>High</th>\n",
       "      <th>Low</th>\n",
       "      <th>Close</th>\n",
       "      <th>Adj Close</th>\n",
       "      <th>Volume</th>\n",
       "    </tr>\n",
       "  </thead>\n",
       "  <tbody>\n",
       "    <tr>\n",
       "      <th>0</th>\n",
       "      <td>2014-01-02</td>\n",
       "      <td>0.011595</td>\n",
       "      <td>0.010764</td>\n",
       "      <td>0.014923</td>\n",
       "      <td>4143.069824</td>\n",
       "      <td>0.011753</td>\n",
       "      <td>0.135298</td>\n",
       "    </tr>\n",
       "    <tr>\n",
       "      <th>1</th>\n",
       "      <td>2014-01-03</td>\n",
       "      <td>0.010677</td>\n",
       "      <td>0.010124</td>\n",
       "      <td>0.014374</td>\n",
       "      <td>4131.910156</td>\n",
       "      <td>0.010855</td>\n",
       "      <td>0.125945</td>\n",
       "    </tr>\n",
       "    <tr>\n",
       "      <th>2</th>\n",
       "      <td>2014-01-06</td>\n",
       "      <td>0.009755</td>\n",
       "      <td>0.009071</td>\n",
       "      <td>0.012670</td>\n",
       "      <td>4113.680176</td>\n",
       "      <td>0.009389</td>\n",
       "      <td>0.207936</td>\n",
       "    </tr>\n",
       "    <tr>\n",
       "      <th>3</th>\n",
       "      <td>2014-01-07</td>\n",
       "      <td>0.009078</td>\n",
       "      <td>0.010541</td>\n",
       "      <td>0.014496</td>\n",
       "      <td>4153.180176</td>\n",
       "      <td>0.012566</td>\n",
       "      <td>0.206019</td>\n",
       "    </tr>\n",
       "    <tr>\n",
       "      <th>4</th>\n",
       "      <td>2014-01-08</td>\n",
       "      <td>0.011135</td>\n",
       "      <td>0.011626</td>\n",
       "      <td>0.015984</td>\n",
       "      <td>4165.609863</td>\n",
       "      <td>0.013566</td>\n",
       "      <td>0.214804</td>\n",
       "    </tr>\n",
       "  </tbody>\n",
       "</table>\n",
       "</div>"
      ],
      "text/plain": [
       "         Date      Open      High       Low        Close  Adj Close    Volume\n",
       "0  2014-01-02  0.011595  0.010764  0.014923  4143.069824   0.011753  0.135298\n",
       "1  2014-01-03  0.010677  0.010124  0.014374  4131.910156   0.010855  0.125945\n",
       "2  2014-01-06  0.009755  0.009071  0.012670  4113.680176   0.009389  0.207936\n",
       "3  2014-01-07  0.009078  0.010541  0.014496  4153.180176   0.012566  0.206019\n",
       "4  2014-01-08  0.011135  0.011626  0.015984  4165.609863   0.013566  0.214804"
      ]
     },
     "execution_count": 3,
     "metadata": {},
     "output_type": "execute_result"
    }
   ],
   "source": [
    "data.head()"
   ]
  },
  {
   "cell_type": "code",
   "execution_count": 4,
   "id": "7e31c64d-2762-47be-b509-9d082b2d1136",
   "metadata": {},
   "outputs": [
    {
     "data": {
      "text/html": [
       "<div>\n",
       "<style scoped>\n",
       "    .dataframe tbody tr th:only-of-type {\n",
       "        vertical-align: middle;\n",
       "    }\n",
       "\n",
       "    .dataframe tbody tr th {\n",
       "        vertical-align: top;\n",
       "    }\n",
       "\n",
       "    .dataframe thead th {\n",
       "        text-align: right;\n",
       "    }\n",
       "</style>\n",
       "<table border=\"1\" class=\"dataframe\">\n",
       "  <thead>\n",
       "    <tr style=\"text-align: right;\">\n",
       "      <th></th>\n",
       "      <th>Date</th>\n",
       "      <th>Open</th>\n",
       "      <th>High</th>\n",
       "      <th>Low</th>\n",
       "      <th>Close</th>\n",
       "      <th>Adj Close</th>\n",
       "      <th>Volume</th>\n",
       "    </tr>\n",
       "  </thead>\n",
       "  <tbody>\n",
       "    <tr>\n",
       "      <th>0</th>\n",
       "      <td>2014-01-02</td>\n",
       "      <td>0.011595</td>\n",
       "      <td>0.010764</td>\n",
       "      <td>0.014923</td>\n",
       "      <td>4143.069824</td>\n",
       "      <td>0.011753</td>\n",
       "      <td>0.135298</td>\n",
       "    </tr>\n",
       "    <tr>\n",
       "      <th>1</th>\n",
       "      <td>2014-01-03</td>\n",
       "      <td>0.010677</td>\n",
       "      <td>0.010124</td>\n",
       "      <td>0.014374</td>\n",
       "      <td>4131.910156</td>\n",
       "      <td>0.010855</td>\n",
       "      <td>0.125945</td>\n",
       "    </tr>\n",
       "    <tr>\n",
       "      <th>2</th>\n",
       "      <td>2014-01-06</td>\n",
       "      <td>0.009755</td>\n",
       "      <td>0.009071</td>\n",
       "      <td>0.012670</td>\n",
       "      <td>4113.680176</td>\n",
       "      <td>0.009389</td>\n",
       "      <td>0.207936</td>\n",
       "    </tr>\n",
       "    <tr>\n",
       "      <th>3</th>\n",
       "      <td>2014-01-07</td>\n",
       "      <td>0.009078</td>\n",
       "      <td>0.010541</td>\n",
       "      <td>0.014496</td>\n",
       "      <td>4153.180176</td>\n",
       "      <td>0.012566</td>\n",
       "      <td>0.206019</td>\n",
       "    </tr>\n",
       "    <tr>\n",
       "      <th>4</th>\n",
       "      <td>2014-01-08</td>\n",
       "      <td>0.011135</td>\n",
       "      <td>0.011626</td>\n",
       "      <td>0.015984</td>\n",
       "      <td>4165.609863</td>\n",
       "      <td>0.013566</td>\n",
       "      <td>0.214804</td>\n",
       "    </tr>\n",
       "  </tbody>\n",
       "</table>\n",
       "</div>"
      ],
      "text/plain": [
       "        Date      Open      High       Low        Close  Adj Close    Volume\n",
       "0 2014-01-02  0.011595  0.010764  0.014923  4143.069824   0.011753  0.135298\n",
       "1 2014-01-03  0.010677  0.010124  0.014374  4131.910156   0.010855  0.125945\n",
       "2 2014-01-06  0.009755  0.009071  0.012670  4113.680176   0.009389  0.207936\n",
       "3 2014-01-07  0.009078  0.010541  0.014496  4153.180176   0.012566  0.206019\n",
       "4 2014-01-08  0.011135  0.011626  0.015984  4165.609863   0.013566  0.214804"
      ]
     },
     "execution_count": 4,
     "metadata": {},
     "output_type": "execute_result"
    }
   ],
   "source": [
    "# Convert 'date' to datetime format\n",
    "data['Date'] = pd.to_datetime(data['Date'])\n",
    "data.head()"
   ]
  },
  {
   "cell_type": "code",
   "execution_count": 5,
   "id": "7b4cbb29-bcbc-403c-b20b-343b1db40b4d",
   "metadata": {},
   "outputs": [
    {
     "name": "stdout",
     "output_type": "stream",
     "text": [
      "<class 'pandas.core.frame.DataFrame'>\n",
      "RangeIndex: 2577 entries, 0 to 2576\n",
      "Data columns (total 7 columns):\n",
      " #   Column     Non-Null Count  Dtype         \n",
      "---  ------     --------------  -----         \n",
      " 0   Date       2577 non-null   datetime64[ns]\n",
      " 1   Open       2577 non-null   float64       \n",
      " 2   High       2577 non-null   float64       \n",
      " 3   Low        2577 non-null   float64       \n",
      " 4   Close      2577 non-null   float64       \n",
      " 5   Adj Close  2577 non-null   float64       \n",
      " 6   Volume     2577 non-null   float64       \n",
      "dtypes: datetime64[ns](1), float64(6)\n",
      "memory usage: 141.1 KB\n"
     ]
    }
   ],
   "source": [
    "data.info()"
   ]
  },
  {
   "cell_type": "markdown",
   "id": "f71b360e-ff0b-41d3-963d-815ffb24c291",
   "metadata": {},
   "source": [
    "## 1. Time-Based Features"
   ]
  },
  {
   "cell_type": "code",
   "execution_count": 6,
   "id": "a9747f3e-d68f-4cc3-908b-c3b6ac88b5e4",
   "metadata": {},
   "outputs": [],
   "source": [
    "# Extract time-based features\n",
    "data['DayOfWeek'] = data['Date'].dt.dayofweek   # 0 = Monday\n",
    "data['Month'] = data['Date'].dt.month\n",
    "data['Quarter'] = data['Date'].dt.quarter\n"
   ]
  },
  {
   "cell_type": "code",
   "execution_count": 7,
   "id": "454d35a8-82ed-4f91-beae-ee0e6c2a4b5c",
   "metadata": {},
   "outputs": [],
   "source": [
    "from pandas.tseries.holiday import USFederalHolidayCalendar\n",
    "\n",
    "calendar = USFederalHolidayCalendar()\n",
    "holidays = calendar.holidays(start=data['Date'].min(), end=data['Date'].max())\n",
    "\n",
    "data['IsHoliday'] = data['Date'].isin(holidays).astype(int)\n"
   ]
  },
  {
   "cell_type": "code",
   "execution_count": 8,
   "id": "69de9852-1800-4ec4-bb84-85609e4bd54c",
   "metadata": {},
   "outputs": [
    {
     "data": {
      "text/html": [
       "<div>\n",
       "<style scoped>\n",
       "    .dataframe tbody tr th:only-of-type {\n",
       "        vertical-align: middle;\n",
       "    }\n",
       "\n",
       "    .dataframe tbody tr th {\n",
       "        vertical-align: top;\n",
       "    }\n",
       "\n",
       "    .dataframe thead th {\n",
       "        text-align: right;\n",
       "    }\n",
       "</style>\n",
       "<table border=\"1\" class=\"dataframe\">\n",
       "  <thead>\n",
       "    <tr style=\"text-align: right;\">\n",
       "      <th></th>\n",
       "      <th>Date</th>\n",
       "      <th>Open</th>\n",
       "      <th>High</th>\n",
       "      <th>Low</th>\n",
       "      <th>Close</th>\n",
       "      <th>Adj Close</th>\n",
       "      <th>Volume</th>\n",
       "      <th>DayOfWeek</th>\n",
       "      <th>Month</th>\n",
       "      <th>Quarter</th>\n",
       "      <th>IsHoliday</th>\n",
       "    </tr>\n",
       "  </thead>\n",
       "  <tbody>\n",
       "    <tr>\n",
       "      <th>0</th>\n",
       "      <td>2014-01-02</td>\n",
       "      <td>0.011595</td>\n",
       "      <td>0.010764</td>\n",
       "      <td>0.014923</td>\n",
       "      <td>4143.069824</td>\n",
       "      <td>0.011753</td>\n",
       "      <td>0.135298</td>\n",
       "      <td>3</td>\n",
       "      <td>1</td>\n",
       "      <td>1</td>\n",
       "      <td>0</td>\n",
       "    </tr>\n",
       "    <tr>\n",
       "      <th>1</th>\n",
       "      <td>2014-01-03</td>\n",
       "      <td>0.010677</td>\n",
       "      <td>0.010124</td>\n",
       "      <td>0.014374</td>\n",
       "      <td>4131.910156</td>\n",
       "      <td>0.010855</td>\n",
       "      <td>0.125945</td>\n",
       "      <td>4</td>\n",
       "      <td>1</td>\n",
       "      <td>1</td>\n",
       "      <td>0</td>\n",
       "    </tr>\n",
       "    <tr>\n",
       "      <th>2</th>\n",
       "      <td>2014-01-06</td>\n",
       "      <td>0.009755</td>\n",
       "      <td>0.009071</td>\n",
       "      <td>0.012670</td>\n",
       "      <td>4113.680176</td>\n",
       "      <td>0.009389</td>\n",
       "      <td>0.207936</td>\n",
       "      <td>0</td>\n",
       "      <td>1</td>\n",
       "      <td>1</td>\n",
       "      <td>0</td>\n",
       "    </tr>\n",
       "    <tr>\n",
       "      <th>3</th>\n",
       "      <td>2014-01-07</td>\n",
       "      <td>0.009078</td>\n",
       "      <td>0.010541</td>\n",
       "      <td>0.014496</td>\n",
       "      <td>4153.180176</td>\n",
       "      <td>0.012566</td>\n",
       "      <td>0.206019</td>\n",
       "      <td>1</td>\n",
       "      <td>1</td>\n",
       "      <td>1</td>\n",
       "      <td>0</td>\n",
       "    </tr>\n",
       "    <tr>\n",
       "      <th>4</th>\n",
       "      <td>2014-01-08</td>\n",
       "      <td>0.011135</td>\n",
       "      <td>0.011626</td>\n",
       "      <td>0.015984</td>\n",
       "      <td>4165.609863</td>\n",
       "      <td>0.013566</td>\n",
       "      <td>0.214804</td>\n",
       "      <td>2</td>\n",
       "      <td>1</td>\n",
       "      <td>1</td>\n",
       "      <td>0</td>\n",
       "    </tr>\n",
       "  </tbody>\n",
       "</table>\n",
       "</div>"
      ],
      "text/plain": [
       "        Date      Open      High       Low        Close  Adj Close    Volume  \\\n",
       "0 2014-01-02  0.011595  0.010764  0.014923  4143.069824   0.011753  0.135298   \n",
       "1 2014-01-03  0.010677  0.010124  0.014374  4131.910156   0.010855  0.125945   \n",
       "2 2014-01-06  0.009755  0.009071  0.012670  4113.680176   0.009389  0.207936   \n",
       "3 2014-01-07  0.009078  0.010541  0.014496  4153.180176   0.012566  0.206019   \n",
       "4 2014-01-08  0.011135  0.011626  0.015984  4165.609863   0.013566  0.214804   \n",
       "\n",
       "   DayOfWeek  Month  Quarter  IsHoliday  \n",
       "0          3      1        1          0  \n",
       "1          4      1        1          0  \n",
       "2          0      1        1          0  \n",
       "3          1      1        1          0  \n",
       "4          2      1        1          0  "
      ]
     },
     "execution_count": 8,
     "metadata": {},
     "output_type": "execute_result"
    }
   ],
   "source": [
    "data.head()"
   ]
  },
  {
   "cell_type": "markdown",
   "id": "dae1ea70-39ba-4407-a776-d004b4e370c8",
   "metadata": {},
   "source": [
    "## 2. Rolling Averages and Moving Windows:"
   ]
  },
  {
   "cell_type": "code",
   "execution_count": 9,
   "id": "ff89706d-0c8d-40a6-9bb6-56e9f1a935ea",
   "metadata": {},
   "outputs": [],
   "source": [
    "window_sizes = [3,6,9]\n",
    "\n",
    "for window in window_sizes:\n",
    "    data[f'rolling_mean_{window}'] = data['Close'].rolling(window).mean()\n",
    "    data[f'rolling_std_{window}'] = data['Close'].rolling(window).std()\n",
    "    data[f'rolling_min_{window}'] = data['Close'].rolling(window).min()\n",
    "    data[f'rolling_max_{window}'] = data['Close'].rolling(window).max()\n"
   ]
  },
  {
   "cell_type": "code",
   "execution_count": 10,
   "id": "862689b1-3070-45bf-9386-5fe2cb6929dc",
   "metadata": {},
   "outputs": [
    {
     "data": {
      "text/html": [
       "<div>\n",
       "<style scoped>\n",
       "    .dataframe tbody tr th:only-of-type {\n",
       "        vertical-align: middle;\n",
       "    }\n",
       "\n",
       "    .dataframe tbody tr th {\n",
       "        vertical-align: top;\n",
       "    }\n",
       "\n",
       "    .dataframe thead th {\n",
       "        text-align: right;\n",
       "    }\n",
       "</style>\n",
       "<table border=\"1\" class=\"dataframe\">\n",
       "  <thead>\n",
       "    <tr style=\"text-align: right;\">\n",
       "      <th></th>\n",
       "      <th>Date</th>\n",
       "      <th>Open</th>\n",
       "      <th>High</th>\n",
       "      <th>Low</th>\n",
       "      <th>Close</th>\n",
       "      <th>Adj Close</th>\n",
       "      <th>Volume</th>\n",
       "      <th>DayOfWeek</th>\n",
       "      <th>Month</th>\n",
       "      <th>Quarter</th>\n",
       "      <th>...</th>\n",
       "      <th>rolling_min_3</th>\n",
       "      <th>rolling_max_3</th>\n",
       "      <th>rolling_mean_6</th>\n",
       "      <th>rolling_std_6</th>\n",
       "      <th>rolling_min_6</th>\n",
       "      <th>rolling_max_6</th>\n",
       "      <th>rolling_mean_9</th>\n",
       "      <th>rolling_std_9</th>\n",
       "      <th>rolling_min_9</th>\n",
       "      <th>rolling_max_9</th>\n",
       "    </tr>\n",
       "  </thead>\n",
       "  <tbody>\n",
       "    <tr>\n",
       "      <th>0</th>\n",
       "      <td>2014-01-02</td>\n",
       "      <td>0.011595</td>\n",
       "      <td>0.010764</td>\n",
       "      <td>0.014923</td>\n",
       "      <td>4143.069824</td>\n",
       "      <td>0.011753</td>\n",
       "      <td>0.135298</td>\n",
       "      <td>3</td>\n",
       "      <td>1</td>\n",
       "      <td>1</td>\n",
       "      <td>...</td>\n",
       "      <td>NaN</td>\n",
       "      <td>NaN</td>\n",
       "      <td>NaN</td>\n",
       "      <td>NaN</td>\n",
       "      <td>NaN</td>\n",
       "      <td>NaN</td>\n",
       "      <td>NaN</td>\n",
       "      <td>NaN</td>\n",
       "      <td>NaN</td>\n",
       "      <td>NaN</td>\n",
       "    </tr>\n",
       "    <tr>\n",
       "      <th>1</th>\n",
       "      <td>2014-01-03</td>\n",
       "      <td>0.010677</td>\n",
       "      <td>0.010124</td>\n",
       "      <td>0.014374</td>\n",
       "      <td>4131.910156</td>\n",
       "      <td>0.010855</td>\n",
       "      <td>0.125945</td>\n",
       "      <td>4</td>\n",
       "      <td>1</td>\n",
       "      <td>1</td>\n",
       "      <td>...</td>\n",
       "      <td>NaN</td>\n",
       "      <td>NaN</td>\n",
       "      <td>NaN</td>\n",
       "      <td>NaN</td>\n",
       "      <td>NaN</td>\n",
       "      <td>NaN</td>\n",
       "      <td>NaN</td>\n",
       "      <td>NaN</td>\n",
       "      <td>NaN</td>\n",
       "      <td>NaN</td>\n",
       "    </tr>\n",
       "    <tr>\n",
       "      <th>2</th>\n",
       "      <td>2014-01-06</td>\n",
       "      <td>0.009755</td>\n",
       "      <td>0.009071</td>\n",
       "      <td>0.012670</td>\n",
       "      <td>4113.680176</td>\n",
       "      <td>0.009389</td>\n",
       "      <td>0.207936</td>\n",
       "      <td>0</td>\n",
       "      <td>1</td>\n",
       "      <td>1</td>\n",
       "      <td>...</td>\n",
       "      <td>4113.680176</td>\n",
       "      <td>4143.069824</td>\n",
       "      <td>NaN</td>\n",
       "      <td>NaN</td>\n",
       "      <td>NaN</td>\n",
       "      <td>NaN</td>\n",
       "      <td>NaN</td>\n",
       "      <td>NaN</td>\n",
       "      <td>NaN</td>\n",
       "      <td>NaN</td>\n",
       "    </tr>\n",
       "    <tr>\n",
       "      <th>3</th>\n",
       "      <td>2014-01-07</td>\n",
       "      <td>0.009078</td>\n",
       "      <td>0.010541</td>\n",
       "      <td>0.014496</td>\n",
       "      <td>4153.180176</td>\n",
       "      <td>0.012566</td>\n",
       "      <td>0.206019</td>\n",
       "      <td>1</td>\n",
       "      <td>1</td>\n",
       "      <td>1</td>\n",
       "      <td>...</td>\n",
       "      <td>4113.680176</td>\n",
       "      <td>4153.180176</td>\n",
       "      <td>NaN</td>\n",
       "      <td>NaN</td>\n",
       "      <td>NaN</td>\n",
       "      <td>NaN</td>\n",
       "      <td>NaN</td>\n",
       "      <td>NaN</td>\n",
       "      <td>NaN</td>\n",
       "      <td>NaN</td>\n",
       "    </tr>\n",
       "    <tr>\n",
       "      <th>4</th>\n",
       "      <td>2014-01-08</td>\n",
       "      <td>0.011135</td>\n",
       "      <td>0.011626</td>\n",
       "      <td>0.015984</td>\n",
       "      <td>4165.609863</td>\n",
       "      <td>0.013566</td>\n",
       "      <td>0.214804</td>\n",
       "      <td>2</td>\n",
       "      <td>1</td>\n",
       "      <td>1</td>\n",
       "      <td>...</td>\n",
       "      <td>4113.680176</td>\n",
       "      <td>4165.609863</td>\n",
       "      <td>NaN</td>\n",
       "      <td>NaN</td>\n",
       "      <td>NaN</td>\n",
       "      <td>NaN</td>\n",
       "      <td>NaN</td>\n",
       "      <td>NaN</td>\n",
       "      <td>NaN</td>\n",
       "      <td>NaN</td>\n",
       "    </tr>\n",
       "  </tbody>\n",
       "</table>\n",
       "<p>5 rows × 23 columns</p>\n",
       "</div>"
      ],
      "text/plain": [
       "        Date      Open      High       Low        Close  Adj Close    Volume  \\\n",
       "0 2014-01-02  0.011595  0.010764  0.014923  4143.069824   0.011753  0.135298   \n",
       "1 2014-01-03  0.010677  0.010124  0.014374  4131.910156   0.010855  0.125945   \n",
       "2 2014-01-06  0.009755  0.009071  0.012670  4113.680176   0.009389  0.207936   \n",
       "3 2014-01-07  0.009078  0.010541  0.014496  4153.180176   0.012566  0.206019   \n",
       "4 2014-01-08  0.011135  0.011626  0.015984  4165.609863   0.013566  0.214804   \n",
       "\n",
       "   DayOfWeek  Month  Quarter  ...  rolling_min_3  rolling_max_3  \\\n",
       "0          3      1        1  ...            NaN            NaN   \n",
       "1          4      1        1  ...            NaN            NaN   \n",
       "2          0      1        1  ...    4113.680176    4143.069824   \n",
       "3          1      1        1  ...    4113.680176    4153.180176   \n",
       "4          2      1        1  ...    4113.680176    4165.609863   \n",
       "\n",
       "   rolling_mean_6  rolling_std_6  rolling_min_6  rolling_max_6  \\\n",
       "0             NaN            NaN            NaN            NaN   \n",
       "1             NaN            NaN            NaN            NaN   \n",
       "2             NaN            NaN            NaN            NaN   \n",
       "3             NaN            NaN            NaN            NaN   \n",
       "4             NaN            NaN            NaN            NaN   \n",
       "\n",
       "   rolling_mean_9  rolling_std_9  rolling_min_9  rolling_max_9  \n",
       "0             NaN            NaN            NaN            NaN  \n",
       "1             NaN            NaN            NaN            NaN  \n",
       "2             NaN            NaN            NaN            NaN  \n",
       "3             NaN            NaN            NaN            NaN  \n",
       "4             NaN            NaN            NaN            NaN  \n",
       "\n",
       "[5 rows x 23 columns]"
      ]
     },
     "execution_count": 10,
     "metadata": {},
     "output_type": "execute_result"
    }
   ],
   "source": [
    "data.head()"
   ]
  },
  {
   "cell_type": "markdown",
   "id": "f61c4cee-c25e-479e-bc31-bc25aa16c89a",
   "metadata": {},
   "source": [
    "## 3. Lagged Features"
   ]
  },
  {
   "cell_type": "code",
   "execution_count": 11,
   "id": "4014fff7-ae18-421b-becb-e187263ad72c",
   "metadata": {},
   "outputs": [
    {
     "data": {
      "image/png": "[encoded data removed]",
      "text/plain": [
       "<Figure size 640x480 with 1 Axes>"
      ]
     },
     "metadata": {},
     "output_type": "display_data"
    }
   ],
   "source": [
    "from pandas.plotting import autocorrelation_plot\n",
    "import matplotlib.pyplot as plt\n",
    "\n",
    "# Autocorrelation plot\n",
    "autocorrelation_plot(data['Close'])\n",
    "plt.title(\"Autocorrelation Plot of Close Prices\")\n",
    "plt.show()\n"
   ]
  },
  {
   "cell_type": "code",
   "execution_count": 12,
   "id": "09f5a092-b2a2-402a-a4d9-88ad591434aa",
   "metadata": {},
   "outputs": [
    {
     "name": "stdout",
     "output_type": "stream",
     "text": [
      "ACF Values: [1.         0.99823385 0.99655456 0.99486109 0.99319107 0.99152989\n",
      " 0.98984964 0.98825288 0.98659642 0.98507026 0.98344065 0.98182035\n",
      " 0.98013946 0.97845227 0.97685722 0.97519762 0.97358585 0.97198925\n",
      " 0.970474   0.96880198 0.96713056]\n"
     ]
    }
   ],
   "source": [
    "from statsmodels.tsa.stattools import acf\n",
    "\n",
    "# Use ACF to determine optimal lags\n",
    "acf_vals = acf(data['Close'].dropna(), nlags=20)\n",
    "print(\"ACF Values:\", acf_vals)"
   ]
  },
  {
   "cell_type": "code",
   "execution_count": 13,
   "id": "feab669f-21c4-4a10-bec4-b395db765c1a",
   "metadata": {},
   "outputs": [],
   "source": [
    "# Based on plot/manual inspection, add lag features\n",
    "data['Close_t-1'] = data['Close'].shift(1)\n",
    "data['Close_t-5'] = data['Close'].shift(5)\n",
    "data['Close_t-10'] = data['Close'].shift(10)  # Optional deeper lag\n"
   ]
  },
  {
   "cell_type": "code",
   "execution_count": 14,
   "id": "592339a3-475d-4ed3-8070-57ceb1232d96",
   "metadata": {},
   "outputs": [
    {
     "name": "stdout",
     "output_type": "stream",
     "text": [
      "        Date        Close    Close_t-1  Close_t-5  Close_t-10\n",
      "0 2014-01-02  4143.069824          NaN        NaN         NaN\n",
      "1 2014-01-03  4131.910156  4143.069824        NaN         NaN\n",
      "2 2014-01-06  4113.680176  4131.910156        NaN         NaN\n",
      "3 2014-01-07  4153.180176  4113.680176        NaN         NaN\n",
      "4 2014-01-08  4165.609863  4153.180176        NaN         NaN\n"
     ]
    }
   ],
   "source": [
    "# Display the dataframe with lagged features\n",
    "print(data[['Date', 'Close', 'Close_t-1', 'Close_t-5','Close_t-10']].head())\n"
   ]
  },
  {
   "cell_type": "markdown",
   "id": "a2d9d512-c2fd-4fab-acde-1d514cddb2be",
   "metadata": {},
   "source": [
    "## 4. Interaction Features"
   ]
  },
  {
   "cell_type": "code",
   "execution_count": 15,
   "id": "526f074d-fe8d-4189-9999-29bf78ab0a57",
   "metadata": {},
   "outputs": [],
   "source": [
    "# Create volatility and interaction feature\n",
    "data['Volatility'] = data['High'] - data['Low']\n"
   ]
  },
  {
   "cell_type": "code",
   "execution_count": 16,
   "id": "77ec980b-fd5c-4792-8ff9-5f92aa05f487",
   "metadata": {},
   "outputs": [],
   "source": [
    "# Interaction features\n",
    "data['Volume_x_Volatility'] = data['Volume'] * data['Volatility']\n",
    "data['Close_x_Volume'] = data['Close'] * data['Volume']\n",
    "data['Range_x_Volume'] = (data['High'] - data['Low']) * data['Volume']\n"
   ]
  },
  {
   "cell_type": "code",
   "execution_count": 17,
   "id": "dc4586dd-c6c7-4073-9c8e-63df00abd877",
   "metadata": {},
   "outputs": [
    {
     "name": "stdout",
     "output_type": "stream",
     "text": [
      "        Date        Close  Volatility  Volume_x_Volatility  Close_x_Volume  \\\n",
      "0 2014-01-02  4143.069824   -0.004159            -0.000563      560.549704   \n",
      "1 2014-01-03  4131.910156   -0.004250            -0.000535      520.392321   \n",
      "2 2014-01-06  4113.680176   -0.003600            -0.000748      855.382146   \n",
      "3 2014-01-07  4153.180176   -0.003955            -0.000815      855.634655   \n",
      "4 2014-01-08  4165.609863   -0.004358            -0.000936      894.787803   \n",
      "\n",
      "   Range_x_Volume  \n",
      "0       -0.000563  \n",
      "1       -0.000535  \n",
      "2       -0.000748  \n",
      "3       -0.000815  \n",
      "4       -0.000936  \n"
     ]
    }
   ],
   "source": [
    "# Display the dataframe with interaction features\n",
    "print(data[['Date', 'Close', 'Volatility', 'Volume_x_Volatility','Close_x_Volume','Range_x_Volume']].head())"
   ]
  },
  {
   "cell_type": "markdown",
   "id": "31a88d7d-807b-468b-93d5-5be12a696c2b",
   "metadata": {},
   "source": [
    "## Domain-Specific Features"
   ]
  },
  {
   "cell_type": "code",
   "execution_count": 18,
   "id": "ca82ce39-96e8-43fe-8eaf-aee9e92ee0ef",
   "metadata": {},
   "outputs": [],
   "source": [
    "# If you have SP500 or sector index data, merge it\n",
    "# For now, simulate an external index if unavailable\n",
    "data['SP500_dummy'] = data['Close'].rolling(3).mean() + np.random.normal(0, 0.01, len(data))\n",
    "data['Close_vs_SP500'] = data['Close'] - data['SP500_dummy']\n"
   ]
  },
  {
   "cell_type": "code",
   "execution_count": null,
   "id": "0e0e48c6-eda9-432d-972a-1217323dd24a",
   "metadata": {},
   "outputs": [],
   "source": []
  },
  {
   "cell_type": "code",
   "execution_count": 19,
   "id": "06ddf8ba-a8c9-4884-9405-239ac4dbd820",
   "metadata": {},
   "outputs": [
    {
     "name": "stdout",
     "output_type": "stream",
     "text": [
      "        Date        Close  SP500_dummy  Close_vs_SP500\n",
      "0 2014-01-02  4143.069824          NaN             NaN\n",
      "1 2014-01-03  4131.910156          NaN             NaN\n",
      "2 2014-01-06  4113.680176  4129.564800      -15.884624\n",
      "3 2014-01-07  4153.180176  4132.904090       20.276086\n",
      "4 2014-01-08  4165.609863  4144.147525       21.462338\n"
     ]
    }
   ],
   "source": [
    "print(data[['Date', 'Close', 'SP500_dummy', 'Close_vs_SP500']].head())"
   ]
  },
  {
   "cell_type": "code",
   "execution_count": 20,
   "id": "1013bceb-a729-4d52-a474-2821cc267a68",
   "metadata": {},
   "outputs": [
    {
     "data": {
      "text/plain": [
       "Date                    0\n",
       "Open                    0\n",
       "High                    0\n",
       "Low                     0\n",
       "Close                   0\n",
       "Adj Close               0\n",
       "Volume                  0\n",
       "DayOfWeek               0\n",
       "Month                   0\n",
       "Quarter                 0\n",
       "IsHoliday               0\n",
       "rolling_mean_3          2\n",
       "rolling_std_3           2\n",
       "rolling_min_3           2\n",
       "rolling_max_3           2\n",
       "rolling_mean_6          5\n",
       "rolling_std_6           5\n",
       "rolling_min_6           5\n",
       "rolling_max_6           5\n",
       "rolling_mean_9          8\n",
       "rolling_std_9           8\n",
       "rolling_min_9           8\n",
       "rolling_max_9           8\n",
       "Close_t-1               1\n",
       "Close_t-5               5\n",
       "Close_t-10             10\n",
       "Volatility              0\n",
       "Volume_x_Volatility     0\n",
       "Close_x_Volume          0\n",
       "Range_x_Volume          0\n",
       "SP500_dummy             2\n",
       "Close_vs_SP500          2\n",
       "dtype: int64"
      ]
     },
     "execution_count": 20,
     "metadata": {},
     "output_type": "execute_result"
    }
   ],
   "source": [
    "data.isnull().sum()"
   ]
  },
  {
   "cell_type": "code",
   "execution_count": 21,
   "id": "fc43be16-ac1c-45f5-b48a-06cd519622a2",
   "metadata": {},
   "outputs": [],
   "source": [
    "# Drop NA rows created by rolling/lags\n",
    "# Replace infinite values with NaN, then drop them\n",
    "data.replace([np.inf, -np.inf], np.nan, inplace=True)\n",
    "df_clean = data.dropna()\n"
   ]
  },
  {
   "cell_type": "code",
   "execution_count": 22,
   "id": "61f8364f-f273-44e3-b59e-6a6b89399f1f",
   "metadata": {},
   "outputs": [
    {
     "data": {
      "text/plain": [
       "Date                   0\n",
       "Open                   0\n",
       "High                   0\n",
       "Low                    0\n",
       "Close                  0\n",
       "Adj Close              0\n",
       "Volume                 0\n",
       "DayOfWeek              0\n",
       "Month                  0\n",
       "Quarter                0\n",
       "IsHoliday              0\n",
       "rolling_mean_3         0\n",
       "rolling_std_3          0\n",
       "rolling_min_3          0\n",
       "rolling_max_3          0\n",
       "rolling_mean_6         0\n",
       "rolling_std_6          0\n",
       "rolling_min_6          0\n",
       "rolling_max_6          0\n",
       "rolling_mean_9         0\n",
       "rolling_std_9          0\n",
       "rolling_min_9          0\n",
       "rolling_max_9          0\n",
       "Close_t-1              0\n",
       "Close_t-5              0\n",
       "Close_t-10             0\n",
       "Volatility             0\n",
       "Volume_x_Volatility    0\n",
       "Close_x_Volume         0\n",
       "Range_x_Volume         0\n",
       "SP500_dummy            0\n",
       "Close_vs_SP500         0\n",
       "dtype: int64"
      ]
     },
     "execution_count": 22,
     "metadata": {},
     "output_type": "execute_result"
    }
   ],
   "source": [
    "df_clean.isnull().sum()"
   ]
  },
  {
   "cell_type": "markdown",
   "id": "c95e0a45-875f-45f9-975d-cf07e79eeb78",
   "metadata": {},
   "source": [
    "## 5. Feature Selection"
   ]
  },
  {
   "cell_type": "code",
   "execution_count": 23,
   "id": "70e41ea2-a800-49f3-9257-1fe790bd9166",
   "metadata": {},
   "outputs": [
    {
     "name": "stdout",
     "output_type": "stream",
     "text": [
      "Correlation with Close:\n",
      " Close                  1.000000\n",
      "Adj Close              1.000000\n",
      "Low                    0.999817\n",
      "High                   0.999787\n",
      "SP500_dummy            0.999672\n",
      "rolling_mean_3         0.999672\n",
      "Open                   0.999600\n",
      "rolling_min_3          0.999595\n",
      "rolling_max_3          0.999495\n",
      "Close_t-1              0.999372\n",
      "rolling_mean_6         0.999142\n",
      "rolling_min_6          0.998990\n",
      "rolling_max_6          0.998692\n",
      "rolling_mean_9         0.998629\n",
      "rolling_min_9          0.998510\n",
      "rolling_max_9          0.997909\n",
      "Close_t-5              0.997240\n",
      "Close_t-10             0.994686\n",
      "Date                   0.928701\n",
      "Close_x_Volume         0.921759\n",
      "Volume                 0.847221\n",
      "rolling_std_9          0.613598\n",
      "rolling_std_6          0.584963\n",
      "rolling_std_3          0.516180\n",
      "Volatility             0.446047\n",
      "Volume_x_Volatility    0.380287\n",
      "Range_x_Volume         0.380287\n",
      "Close_vs_SP500         0.044541\n",
      "Month                  0.021406\n",
      "Quarter                0.017268\n",
      "IsHoliday              0.016403\n",
      "DayOfWeek              0.003211\n",
      "Name: Close, dtype: float64\n"
     ]
    }
   ],
   "source": [
    "\n",
    "# Correlation with target\n",
    "corr_with_target = df_clean.corr()['Close'].sort_values(ascending=False)\n",
    "print(\"Correlation with Close:\\n\", corr_with_target)"
   ]
  },
  {
   "cell_type": "code",
   "execution_count": 24,
   "id": "e0067811-db2f-433f-952e-60a7c8beb495",
   "metadata": {},
   "outputs": [],
   "source": [
    "df_clean = df_clean.drop(columns=['Adj Close'])\n"
   ]
  },
  {
   "cell_type": "code",
   "execution_count": null,
   "id": "8f8fd30d-db1d-4612-aa42-e2d4b6ab8b68",
   "metadata": {},
   "outputs": [],
   "source": []
  },
  {
   "cell_type": "code",
   "execution_count": 25,
   "id": "196cc753-868b-4a48-8ec9-b2ad6a678490",
   "metadata": {},
   "outputs": [
    {
     "data": {
      "image/png": "[encoded data removed]",
      "text/plain": [
       "<Figure size 1000x600 with 1 Axes>"
      ]
     },
     "metadata": {},
     "output_type": "display_data"
    }
   ],
   "source": [
    "from sklearn.ensemble import RandomForestRegressor\n",
    "\n",
    "from statsmodels.tsa.stattools import acf\n",
    "import matplotlib.pyplot as plt\n",
    "\n",
    "# Tree-based feature importance\n",
    "feature_cols = df_clean.columns.difference(['Close', 'Date'])  # Cleaned up\n",
    "X_fs = df_clean[feature_cols]\n",
    "y_fs = df_clean['Close']\n",
    "\n",
    "\n",
    "rf = RandomForestRegressor(n_estimators=100, random_state=42)\n",
    "rf.fit(X_fs, y_fs)\n",
    "\n",
    "importances = pd.Series(rf.feature_importances_, index=feature_cols).sort_values(ascending=False)\n",
    "\n",
    "# Plot feature importance\n",
    "plt.figure(figsize=(10, 6))\n",
    "importances.plot(kind='bar')\n",
    "plt.title(\"Feature Importances (Random Forest)\")\n",
    "plt.ylabel(\"Importance Score\")\n",
    "plt.tight_layout()\n",
    "plt.show()"
   ]
  },
  {
   "cell_type": "code",
   "execution_count": 26,
   "id": "4af825fc-0697-4e43-b144-904e390fb537",
   "metadata": {},
   "outputs": [
    {
     "name": "stdout",
     "output_type": "stream",
     "text": [
      "RFE Selected Features: ['Close_t-1', 'High', 'Low', 'Open', 'SP500_dummy', 'rolling_max_3', 'rolling_mean_3', 'rolling_mean_6', 'rolling_min_3', 'rolling_min_6']\n"
     ]
    }
   ],
   "source": [
    "from sklearn.feature_selection import RFE\n",
    "\n",
    "rfe = RFE(estimator=RandomForestRegressor(n_estimators=100, random_state=42), n_features_to_select=10)\n",
    "rfe.fit(X_fs, y_fs)\n",
    "\n",
    "# Get selected features\n",
    "rfe_selected = X_fs.columns[rfe.support_]\n",
    "print(\"RFE Selected Features:\", rfe_selected.tolist())\n"
   ]
  },
  {
   "cell_type": "code",
   "execution_count": 27,
   "id": "8c7b71ef-f5b3-4feb-9feb-8c47e1a8f512",
   "metadata": {},
   "outputs": [
    {
     "name": "stdout",
     "output_type": "stream",
     "text": [
      "Selected features using Correlation Analysis: ['Close_vs_SP500', 'DayOfWeek', 'IsHoliday', 'Quarter', 'Volume', 'Volume_x_Volatility', 'rolling_min_9', 'rolling_std_3', 'rolling_std_6', 'rolling_std_9']\n"
     ]
    }
   ],
   "source": [
    "# Correlation Analysis on cleaned features\n",
    "corr_matrix = X_fs.corr()\n",
    "\n",
    "# Find highly correlated feature pairs (absolute correlation > 0.9)\n",
    "high_corr_pairs = set()\n",
    "for i in range(len(corr_matrix.columns)):\n",
    "    for j in range(i):\n",
    "        if abs(corr_matrix.iloc[i, j]) > 0.9:\n",
    "            high_corr_pairs.add((corr_matrix.columns[i], corr_matrix.columns[j]))\n",
    "\n",
    "# Drop one feature from each correlated pair (arbitrarily second one)\n",
    "to_remove = {pair[1] for pair in high_corr_pairs}\n",
    "correlation_selected_features = [col for col in X_fs.columns if col not in to_remove]\n",
    "\n",
    "print(\"Selected features using Correlation Analysis:\", correlation_selected_features)\n"
   ]
  },
  {
   "cell_type": "code",
   "execution_count": 28,
   "id": "5e951398-1cd6-4924-8be1-bbdadaf16b4f",
   "metadata": {},
   "outputs": [
    {
     "name": "stdout",
     "output_type": "stream",
     "text": [
      "Selected features using Tree-Based Model: ['Low', 'High', 'rolling_min_3', 'rolling_mean_3', 'SP500_dummy', 'Close_t-1', 'rolling_min_6', 'rolling_max_3', 'Open', 'rolling_mean_6']\n"
     ]
    }
   ],
   "source": [
    "#Feature Importance from Tree-Based Models\n",
    "from sklearn.ensemble import RandomForestRegressor\n",
    "from sklearn.model_selection import train_test_split\n",
    "\n",
    "# Train Random Forest\n",
    "model = RandomForestRegressor(n_estimators=100, random_state=42)\n",
    "model.fit(X_fs, y_fs)\n",
    "\n",
    "# Get feature importance\n",
    "importances = model.feature_importances_\n",
    "feature_importance_df = pd.DataFrame({'Feature': X_fs.columns, 'Importance': importances}).sort_values(by='Importance', ascending=False)\n",
    "\n",
    "# Select top 10 important features (adjust based on your needs)\n",
    "tree_selected_features = feature_importance_df['Feature'].head(10).tolist()\n",
    "print(\"Selected features using Tree-Based Model:\", tree_selected_features)\n"
   ]
  },
  {
   "cell_type": "code",
   "execution_count": 29,
   "id": "c169372c-08bf-45b8-a43a-85a55176b3d9",
   "metadata": {},
   "outputs": [],
   "source": [
    "# Combine features from all methods\n",
    "final_selected_features = [\n",
    "    'Close_t-1',          # Lagged price for temporal dependency\n",
    "    'rolling_mean_3',     # Short-term trend\n",
    "    'rolling_min_3',      # Short-term price floor\n",
    "    'rolling_std_3',      # Volatility\n",
    "    'Volume',             # Trading activity\n",
    "    'Close_vs_SP500',     # Market context\n",
    "    'Volume_x_Volatility', # Interaction term\n",
    "    'DayOfWeek',          # Calendar effect (required)\n",
    "    'IsHoliday'           # Holiday indicator (required)\n",
    "]"
   ]
  },
  {
   "cell_type": "code",
   "execution_count": 30,
   "id": "e2a2208c-b6d8-44cb-a5d6-19c34d4b30a8",
   "metadata": {},
   "outputs": [
    {
     "name": "stdout",
     "output_type": "stream",
     "text": [
      "Final Selected Features: ['Close_t-1', 'rolling_mean_3', 'rolling_min_3', 'rolling_std_3', 'Volume', 'Close_vs_SP500', 'Volume_x_Volatility', 'DayOfWeek', 'IsHoliday']\n"
     ]
    }
   ],
   "source": [
    "\n",
    "print(\"Final Selected Features:\", final_selected_features)\n"
   ]
  },
  {
   "cell_type": "code",
   "execution_count": 31,
   "id": "680628cf-97f9-42a4-9eb7-4b43c5a6d3aa",
   "metadata": {},
   "outputs": [],
   "source": [
    "X_final = df_clean[final_selected_features]\n",
    "y_final = df_clean['Close']\n"
   ]
  },
  {
   "cell_type": "code",
   "execution_count": 32,
   "id": "46efd783-5b1a-45ea-9825-97dabd20eb37",
   "metadata": {},
   "outputs": [],
   "source": [
    "final_df = pd.concat([X_final, y_final], axis=1)\n",
    "final_df.to_csv(\"C:\\\\Users\\\\shant\\\\Downloads\\\\quant-nasdaq-project\\\\data\\\\final_features_model_input.csv\", index=False)"
   ]
  },
  {
   "cell_type": "code",
   "execution_count": null,
   "id": "d5b3a3da-97c4-48b8-9a9a-e710b30de1da",
   "metadata": {},
   "outputs": [],
   "source": []
  },
  {
   "cell_type": "code",
   "execution_count": null,
   "id": "46d957cf-ec8e-499d-8d1c-b868c7f583b4",
   "metadata": {},
   "outputs": [],
   "source": []
  }
 ],
 "metadata": {
  "kernelspec": {
   "display_name": "Python 3 (ipykernel)",
   "language": "python",
   "name": "python3"
  },
  "language_info": {
   "codemirror_mode": {
    "name": "ipython",
    "version": 3
   },
   "file_extension": ".py",
   "mimetype": "text/x-python",
   "name": "python",
   "nbconvert_exporter": "python",
   "pygments_lexer": "ipython3",
   "version": "3.12.3"
  }
 },
 "nbformat": 4,
 "nbformat_minor": 5
}
