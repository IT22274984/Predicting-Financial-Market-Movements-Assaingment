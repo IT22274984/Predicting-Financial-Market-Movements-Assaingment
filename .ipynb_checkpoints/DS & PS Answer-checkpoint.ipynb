{
 "cells": [
  {
   "cell_type": "markdown",
   "id": "15223fd1-767a-41d2-8912-f2d40605db73",
   "metadata": {},
   "source": [
    "### Solution Explanation – Stock Span Problem\n",
    "\n",
    "### To solve the problem efficiently, I used a **monotonic stack** to track indices of previous prices in a decreasing order, within the last `k` days.\n",
    "\n",
    "### For each day:\n",
    "### - I popped smaller/equal prices from the stack if they were in the `k`-day window.\n",
    "### - The span is calculated based on the distance from the nearest higher price in the past.\n",
    "\n",
    "### This gives us an efficient **O(n)** solution, much faster than a nested loop approach.\n"
   ]
  },
  {
   "cell_type": "code",
   "execution_count": 26,
   "id": "e8c7842e-ff79-4035-be4e-9ece259dc0f4",
   "metadata": {},
   "outputs": [],
   "source": [
    "from typing import List\n",
    "from collections import deque\n",
    "\n",
    "def calculate_price_span(prices: List[float], k: int) -> List[int]:\n",
    "    \n",
    "    n = len(prices)\n",
    "    span = [0] * n\n",
    "    stack = deque()  # Stack to store indices\n",
    "\n",
    "    for i in range(n):\n",
    "        # Remove elements from stack which are out of the window\n",
    "        while stack and stack[0] < i - k + 1:\n",
    "            stack.popleft()\n",
    "\n",
    "        # Pop all smaller or equal elements from the back\n",
    "        while stack and prices[stack[-1]] <= prices[i]:\n",
    "            stack.pop()\n",
    "\n",
    "        # If stack is empty, all elements in window are <= current\n",
    "        if not stack:\n",
    "            span[i] = min(i + 1, k)\n",
    "        else:\n",
    "            span[i] = i - stack[-1]\n",
    "\n",
    "        stack.append(i)\n",
    "\n",
    "    return span\n",
    "\n"
   ]
  },
  {
   "cell_type": "code",
   "execution_count": 27,
   "id": "4bab347e-340d-4481-9cea-abfc35802c55",
   "metadata": {},
   "outputs": [
    {
     "name": "stdout",
     "output_type": "stream",
     "text": [
      "Price Span: [1, 1, 1, 2, 1, 4, 4]\n"
     ]
    }
   ],
   "source": [
    "# Example usage\n",
    "prices = [100, 80, 60, 70, 60, 75, 85]\n",
    "k = 4\n",
    "print(\"Price Span:\", calculate_price_span(prices, k))\n",
    "\n"
   ]
  },
  {
   "cell_type": "markdown",
   "id": "911e8362-ab93-485b-a1e7-923f24551c2f",
   "metadata": {},
   "source": [
    "### In here I'm use NumPy for calculation. "
   ]
  },
  {
   "cell_type": "code",
   "execution_count": 28,
   "id": "50e7f62c-ac83-4358-a4e2-1b128b83b6a9",
   "metadata": {},
   "outputs": [],
   "source": [
    "import numpy as np\n",
    "\n",
    "# Daily returns for two stocks\n",
    "return_a = np.array([0.5, -0.2, 0.3, 0.7, -0.3, 0.1, 0.4, 0.2, -0.1, 0.6])\n",
    "return_b = np.array([0.4, -0.1, 0.2, 0.8, -0.4, 0.0, 0.3, 0.2, -0.2, 0.5])\n",
    "\n"
   ]
  },
  {
   "cell_type": "markdown",
   "id": "5836773a-1f15-4e2d-a5ac-286eeaaebc2f",
   "metadata": {},
   "source": [
    "### Compute the sample covariance between Return A and Return B. "
   ]
  },
  {
   "cell_type": "code",
   "execution_count": 29,
   "id": "6b003fb1-12bf-4ebd-a319-137f6f3f7402",
   "metadata": {},
   "outputs": [
    {
     "name": "stdout",
     "output_type": "stream",
     "text": [
      "Sample Covariance: 0.11844444444444445\n"
     ]
    }
   ],
   "source": [
    "# 1. Sample Covariance\n",
    "cov_ab = np.cov(return_a, return_b, ddof=1)[0][1]\n",
    "print(\"Sample Covariance:\", cov_ab)\n",
    "\n"
   ]
  },
  {
   "cell_type": "markdown",
   "id": "b2e7ad6f-ab12-48c8-8919-48b11d3bc6a5",
   "metadata": {},
   "source": [
    "### Compute the Pearson correlation coefficient between the two sets of returns."
   ]
  },
  {
   "cell_type": "code",
   "execution_count": 30,
   "id": "1ba9b684-63f6-4717-af87-9005ad436cb7",
   "metadata": {},
   "outputs": [
    {
     "name": "stdout",
     "output_type": "stream",
     "text": [
      "Pearson Correlation Coefficient: 0.9711412988900745\n"
     ]
    }
   ],
   "source": [
    "# 2. Pearson Correlation Coefficient\n",
    "corr_ab = np.corrcoef(return_a, return_b)[0][1]\n",
    "print(\"Pearson Correlation Coefficient:\", corr_ab)\n",
    "\n"
   ]
  },
  {
   "cell_type": "markdown",
   "id": "4ee1ee15-c0b5-4c2b-91a4-7b6f3d7abc14",
   "metadata": {},
   "source": [
    "### The Pearson correlation was found to be strong and positive (close to 1).\n",
    "\n",
    "### Positive relationship: when Stock A goes up, Stock B tends to go up.\n",
    "\n",
    "### Strong correlation: movements are closely aligned over the 10 days.\n",
    "\n"
   ]
  },
  {
   "cell_type": "code",
   "execution_count": 31,
   "id": "a555d3f0-8294-471c-8932-8195ac292ea9",
   "metadata": {},
   "outputs": [
    {
     "name": "stdout",
     "output_type": "stream",
     "text": [
      "Interpretation: Positive and Strong correlation\n",
      "This implies that the two stocks tend to move together\n"
     ]
    }
   ],
   "source": [
    "# 3. Interpretation\n",
    "if corr_ab > 0:\n",
    "    relation = \"Positive\"\n",
    "else:\n",
    "    relation = \"Negative\"\n",
    "\n",
    "strength = \"\"\n",
    "if abs(corr_ab) < 0.3:\n",
    "    strength = \"Weak\"\n",
    "elif abs(corr_ab) < 0.7:\n",
    "    strength = \"Moderate\"\n",
    "else:\n",
    "    strength = \"Strong\"\n",
    "\n",
    "print(f\"Interpretation: {relation} and {strength} correlation\")\n",
    "print(\"This implies that the two stocks tend to move\", \"together\" if relation == \"Positive\" else \"oppositely\")\n"
   ]
  },
  {
   "cell_type": "markdown",
   "id": "dfebfea3-68b1-4dbd-a145-7aad0b12109a",
   "metadata": {},
   "source": [
    "## for the manual handiling this question"
   ]
  },
  {
   "cell_type": "markdown",
   "id": "7f6e559a-ea24-469d-867b-00fc42981287",
   "metadata": {},
   "source": [
    "## we hand with the Sample Covariance , Pearson Correlation Coefficient ,means of A and B ,standard deviations Formula "
   ]
  },
  {
   "cell_type": "markdown",
   "id": "6274407a-e313-48bb-80bb-375263e86d2c",
   "metadata": {},
   "source": [
    "### Covariance and Correlation – Explanation\n",
    "\n",
    "### **Covariance Formula:**\n",
    "### \\[\n",
    "### \\text{Cov}(A, B) = \\frac{1}{n - 1} \\sum_{i=1}^{n} (A_i - \\bar{A})(B_i - \\bar{B})\n",
    "### \\]\n",
    "\n",
    "### **Pearson Correlation Coefficient:**\n",
    "### \\[\n",
    "### r = \\frac{\\text{Cov}(A, B)}{\\sigma_A \\cdot \\sigma_B}\n",
    "### \\]\n",
    "\n",
    "### Where:\n",
    "### - \\( \\bar{A}, \\bar{B} \\): Mean of returns\n",
    "### - \\( \\sigma_A, \\sigma_B \\): Standard deviations\n",
    "\n",
    "### Interpretation:\n",
    "### The correlation coefficient is **positive and close to 1**, indicating a **strong positive linear relationship** between Stock A and B. When one goes up, the other likely does too.\n"
   ]
  },
  {
   "cell_type": "code",
   "execution_count": null,
   "id": "3c4bbef3-b343-4472-ab33-1b9bd2a0c9bf",
   "metadata": {},
   "outputs": [],
   "source": []
  }
 ],
 "metadata": {
  "kernelspec": {
   "display_name": "Python 3 (ipykernel)",
   "language": "python",
   "name": "python3"
  },
  "language_info": {
   "codemirror_mode": {
    "name": "ipython",
    "version": 3
   },
   "file_extension": ".py",
   "mimetype": "text/x-python",
   "name": "python",
   "nbconvert_exporter": "python",
   "pygments_lexer": "ipython3",
   "version": "3.12.3"
  }
 },
 "nbformat": 4,
 "nbformat_minor": 5
}
